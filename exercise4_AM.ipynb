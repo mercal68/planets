{
 "cells": [
  {
   "cell_type": "markdown",
   "metadata": {},
   "source": [
    "## Homework\n",
    "\n",
    "This week we are going to use a new data set which contains 1070 purchases where the customer either purchased Citrus Hill or Minute Maid Orange Juice. "
   ]
  },
  {
   "cell_type": "code",
   "execution_count": 1,
   "metadata": {
    "collapsed": false
   },
   "outputs": [
    {
     "data": {
      "text/html": [
       "<div>\n",
       "<table border=\"1\" class=\"dataframe\">\n",
       "  <thead>\n",
       "    <tr style=\"text-align: right;\">\n",
       "      <th></th>\n",
       "      <th>Purchase</th>\n",
       "      <th>WeekofPurchase</th>\n",
       "      <th>StoreID</th>\n",
       "      <th>PriceCH</th>\n",
       "      <th>PriceMM</th>\n",
       "      <th>DiscCH</th>\n",
       "      <th>DiscMM</th>\n",
       "      <th>SpecialCH</th>\n",
       "      <th>SpecialMM</th>\n",
       "      <th>LoyalCH</th>\n",
       "      <th>SalePriceMM</th>\n",
       "      <th>SalePriceCH</th>\n",
       "      <th>PriceDiff</th>\n",
       "      <th>Store7</th>\n",
       "      <th>PctDiscMM</th>\n",
       "      <th>PctDiscCH</th>\n",
       "      <th>ListPriceDiff</th>\n",
       "      <th>STORE</th>\n",
       "    </tr>\n",
       "  </thead>\n",
       "  <tbody>\n",
       "    <tr>\n",
       "      <th>0</th>\n",
       "      <td>0</td>\n",
       "      <td>237</td>\n",
       "      <td>1</td>\n",
       "      <td>1.75</td>\n",
       "      <td>1.99</td>\n",
       "      <td>0.00</td>\n",
       "      <td>0.0</td>\n",
       "      <td>0</td>\n",
       "      <td>0</td>\n",
       "      <td>0.500000</td>\n",
       "      <td>1.99</td>\n",
       "      <td>1.75</td>\n",
       "      <td>0.24</td>\n",
       "      <td>0</td>\n",
       "      <td>0.000000</td>\n",
       "      <td>0.000000</td>\n",
       "      <td>0.24</td>\n",
       "      <td>1</td>\n",
       "    </tr>\n",
       "    <tr>\n",
       "      <th>1</th>\n",
       "      <td>0</td>\n",
       "      <td>239</td>\n",
       "      <td>1</td>\n",
       "      <td>1.75</td>\n",
       "      <td>1.99</td>\n",
       "      <td>0.00</td>\n",
       "      <td>0.3</td>\n",
       "      <td>0</td>\n",
       "      <td>1</td>\n",
       "      <td>0.600000</td>\n",
       "      <td>1.69</td>\n",
       "      <td>1.75</td>\n",
       "      <td>-0.06</td>\n",
       "      <td>0</td>\n",
       "      <td>0.150754</td>\n",
       "      <td>0.000000</td>\n",
       "      <td>0.24</td>\n",
       "      <td>1</td>\n",
       "    </tr>\n",
       "    <tr>\n",
       "      <th>2</th>\n",
       "      <td>0</td>\n",
       "      <td>245</td>\n",
       "      <td>1</td>\n",
       "      <td>1.86</td>\n",
       "      <td>2.09</td>\n",
       "      <td>0.17</td>\n",
       "      <td>0.0</td>\n",
       "      <td>0</td>\n",
       "      <td>0</td>\n",
       "      <td>0.680000</td>\n",
       "      <td>2.09</td>\n",
       "      <td>1.69</td>\n",
       "      <td>0.40</td>\n",
       "      <td>0</td>\n",
       "      <td>0.000000</td>\n",
       "      <td>0.091398</td>\n",
       "      <td>0.23</td>\n",
       "      <td>1</td>\n",
       "    </tr>\n",
       "    <tr>\n",
       "      <th>3</th>\n",
       "      <td>1</td>\n",
       "      <td>227</td>\n",
       "      <td>1</td>\n",
       "      <td>1.69</td>\n",
       "      <td>1.69</td>\n",
       "      <td>0.00</td>\n",
       "      <td>0.0</td>\n",
       "      <td>0</td>\n",
       "      <td>0</td>\n",
       "      <td>0.400000</td>\n",
       "      <td>1.69</td>\n",
       "      <td>1.69</td>\n",
       "      <td>0.00</td>\n",
       "      <td>0</td>\n",
       "      <td>0.000000</td>\n",
       "      <td>0.000000</td>\n",
       "      <td>0.00</td>\n",
       "      <td>1</td>\n",
       "    </tr>\n",
       "    <tr>\n",
       "      <th>4</th>\n",
       "      <td>0</td>\n",
       "      <td>228</td>\n",
       "      <td>7</td>\n",
       "      <td>1.69</td>\n",
       "      <td>1.69</td>\n",
       "      <td>0.00</td>\n",
       "      <td>0.0</td>\n",
       "      <td>0</td>\n",
       "      <td>0</td>\n",
       "      <td>0.956535</td>\n",
       "      <td>1.69</td>\n",
       "      <td>1.69</td>\n",
       "      <td>0.00</td>\n",
       "      <td>1</td>\n",
       "      <td>0.000000</td>\n",
       "      <td>0.000000</td>\n",
       "      <td>0.00</td>\n",
       "      <td>0</td>\n",
       "    </tr>\n",
       "  </tbody>\n",
       "</table>\n",
       "</div>"
      ],
      "text/plain": [
       "   Purchase  WeekofPurchase  StoreID  PriceCH  PriceMM  DiscCH  DiscMM  \\\n",
       "0         0             237        1     1.75     1.99    0.00     0.0   \n",
       "1         0             239        1     1.75     1.99    0.00     0.3   \n",
       "2         0             245        1     1.86     2.09    0.17     0.0   \n",
       "3         1             227        1     1.69     1.69    0.00     0.0   \n",
       "4         0             228        7     1.69     1.69    0.00     0.0   \n",
       "\n",
       "   SpecialCH  SpecialMM   LoyalCH  SalePriceMM  SalePriceCH  PriceDiff  \\\n",
       "0          0          0  0.500000         1.99         1.75       0.24   \n",
       "1          0          1  0.600000         1.69         1.75      -0.06   \n",
       "2          0          0  0.680000         2.09         1.69       0.40   \n",
       "3          0          0  0.400000         1.69         1.69       0.00   \n",
       "4          0          0  0.956535         1.69         1.69       0.00   \n",
       "\n",
       "   Store7  PctDiscMM  PctDiscCH  ListPriceDiff  STORE  \n",
       "0       0   0.000000   0.000000           0.24      1  \n",
       "1       0   0.150754   0.000000           0.24      1  \n",
       "2       0   0.000000   0.091398           0.23      1  \n",
       "3       0   0.000000   0.000000           0.00      1  \n",
       "4       1   0.000000   0.000000           0.00      0  "
      ]
     },
     "execution_count": 1,
     "metadata": {},
     "output_type": "execute_result"
    }
   ],
   "source": [
    "import pandas as pd\n",
    "oj = pd.read_csv('data/OJ.csv')\n",
    "oj.head()"
   ]
  },
  {
   "cell_type": "code",
   "execution_count": 2,
   "metadata": {
    "collapsed": true
   },
   "outputs": [],
   "source": [
    "import sklearn.cross_validation as cv\n",
    "X = oj.iloc[:, 1:] \n",
    "Y = oj.iloc[:, 0] "
   ]
  },
  {
   "cell_type": "markdown",
   "metadata": {},
   "source": [
    "The features and the target variable are already prepared for you. What you are going to do is:\n",
    "\n",
    "**1. Split**\n",
    "\n",
    "Split the data set into two parts: training set and test set(with *random_state=0*, and *test_size=1.0/2*).\n"
   ]
  },
  {
   "cell_type": "code",
   "execution_count": 3,
   "metadata": {
    "collapsed": false
   },
   "outputs": [
    {
     "name": "stdout",
     "output_type": "stream",
     "text": [
      "Training: (535, 17)(535,)\n",
      "Test: (535, 17)(535,)\n"
     ]
    }
   ],
   "source": [
    "### Splitting the data to see the shape\n",
    "x_train, x_test, y_train, y_test = cv.train_test_split(X, \n",
    "                                                       Y, \n",
    "                                                       test_size=1.0/2, \n",
    "                                                       random_state=0)\n",
    "#print \"Original: \" + str(spine.data.shape) + str(spine.target.shape)\n",
    "print \"Training: \" + str(x_train.shape) + str(y_train.shape)\n",
    "print \"Test: \" + str(x_test.shape) + str(y_test.shape)\n"
   ]
  },
  {
   "cell_type": "code",
   "execution_count": 4,
   "metadata": {
    "collapsed": false
   },
   "outputs": [
    {
     "data": {
      "text/plain": [
       "SVC(C=1.0, cache_size=200, class_weight=None, coef0=0.0,\n",
       "  decision_function_shape=None, degree=3, gamma='auto', kernel='rbf',\n",
       "  max_iter=-1, probability=False, random_state=None, shrinking=True,\n",
       "  tol=0.001, verbose=False)"
      ]
     },
     "execution_count": 4,
     "metadata": {},
     "output_type": "execute_result"
    }
   ],
   "source": [
    "# 1-Use SVM Default settings\n",
    "from sklearn import svm\n",
    "\n",
    "\n",
    "svm_model = svm.SVC()\n",
    "svm_model.fit(x_train,y_train)"
   ]
  },
  {
   "cell_type": "code",
   "execution_count": 5,
   "metadata": {
    "collapsed": false
   },
   "outputs": [
    {
     "name": "stdout",
     "output_type": "stream",
     "text": [
      "('Training error:', 0.22616822429906547)\n",
      "('Test error:', 0.30280373831775698)\n"
     ]
    }
   ],
   "source": [
    "print (\"Training error:\",1-svm_model.score(x_train,y_train))\n",
    "print (\"Test error:\",1-svm_model.score(x_test,y_test))"
   ]
  },
  {
   "cell_type": "code",
   "execution_count": null,
   "metadata": {
    "collapsed": true
   },
   "outputs": [],
   "source": []
  },
  {
   "cell_type": "markdown",
   "metadata": {},
   "source": [
    "**2. Support vector machine**\n",
    "\n",
    "(1) Fit a svm model on the training set, report the training error and test error.(Just use the **svm.SVC** with default setting.)\n",
    "    \n",
    "(2) Change the value of parameter $C$ from $10^{-3}$ to $10^3$, make a plot to watch how the training error and test error varies. You can choose the value of $C$ from the array `np.logspace(-3, 3, 300)`."
   ]
  },
  {
   "cell_type": "code",
   "execution_count": 8,
   "metadata": {
    "collapsed": false
   },
   "outputs": [
    {
     "name": "stdout",
     "output_type": "stream",
     "text": [
      "[0.60560747663551406, 0.60560747663551406, 0.64672897196261681, 0.77383177570093453, 0.84859813084112146, 0.8654205607476636, 0.87102803738317758, 0.88971962616822431, 0.89532710280373828, 0.90654205607476634, 0.90654205607476634, 0.91028037383177574, 0.9196261682242991, 0.92336448598130838, 0.93271028037383175]\n",
      "[0.61495327102803743, 0.61495327102803743, 0.63738317757009344, 0.69719626168224302, 0.77757009345794392, 0.78691588785046729, 0.79439252336448596, 0.77757009345794392, 0.77570093457943923, 0.77196261682242995, 0.7570093457943925, 0.7570093457943925, 0.7570093457943925, 0.74579439252336444, 0.74953271028037383]\n"
     ]
    }
   ],
   "source": [
    "### vary C parameter to check training & test error\n",
    "from sklearn.cross_validation import cross_val_score\n",
    "import numpy as np\n",
    "\n",
    "test_coef = []\n",
    "train_coef = []\n",
    "c_100=[0.001, 0.01, 0.1,1,6.25055193e+00,   8.28642773e+00,10,4.49843267e+01,\n",
    "         5.96362332e+01,   7.90604321e+01,100,1.12883789e+02,   2.33572147e+02,\n",
    "         4.83293024e+02,1000]\n",
    "for i in c_100:\n",
    "    svm_model = svm.SVC(kernel = 'rbf', C = i, degree=3)\n",
    "    #ridge_scores =cross_val_score(ridge_est, x, y, cv = 5)\n",
    "    svm_model.fit(x_train,y_train)\n",
    "    train_error = svm_model.score(x_train,y_train)\n",
    "    #print np.sqrt(train_error)\n",
    "    test_error = svm_model.score(x_test,y_test)\n",
    "    test_coef.append(test_error)\n",
    "    train_coef.append(train_error)\n",
    "\n",
    "print train_coef\n",
    "print test_coef"
   ]
  },
  {
   "cell_type": "code",
   "execution_count": 9,
   "metadata": {
    "collapsed": false
   },
   "outputs": [
    {
     "name": "stdout",
     "output_type": "stream",
     "text": [
      "Populating the interactive namespace from numpy and matplotlib\n"
     ]
    },
    {
     "data": {
      "text/plain": [
       "<matplotlib.text.Text at 0x111000e90>"
      ]
     },
     "execution_count": 9,
     "metadata": {},
     "output_type": "execute_result"
    },
    {
     "data": {
      "image/png": "[encoded data removed]",
      "text/plain": [
       "<matplotlib.figure.Figure at 0x10d92d190>"
      ]
     },
     "metadata": {},
     "output_type": "display_data"
    }
   ],
   "source": [
    "%pylab inline \n",
    "import matplotlib.pyplot as pl\n",
    "pl.plot(c_100, train_coef)\n",
    "pl.plot(c_100, test_coef, color='red')\n",
    "pl.xlabel('C parameter')\n",
    "pl.ylabel('trsining & test accuracies')"
   ]
  },
  {
   "cell_type": "markdown",
   "metadata": {},
   "source": [
    "**3. Decision tree**\n",
    "\n",
    "(1) Fit a decision tree model on the training set with the default setting.\n",
    "    \n",
    "(2) Set the depth of the tree from 1 to 30. Look the varies of the training error and test error.\n",
    "    \n",
    "(3) Use the function **grid_search.GridSearchCV** to find the best parameters. What's the best parameters? What's the best score? What's the training error and test error of the best model. The possible combination of the parameters may be:"
   ]
  },
  {
   "cell_type": "code",
   "execution_count": 10,
   "metadata": {
    "collapsed": false
   },
   "outputs": [
    {
     "data": {
      "text/plain": [
       "0.99252336448598133"
      ]
     },
     "execution_count": 10,
     "metadata": {},
     "output_type": "execute_result"
    }
   ],
   "source": [
    "# Testing standard Decision Tree\n",
    "from sklearn import tree\n",
    "tree_model = tree.DecisionTreeClassifier()\n",
    "tree_model.fit(x_train,y_train)\n",
    "tree_model.score(x_train,y_train)"
   ]
  },
  {
   "cell_type": "code",
   "execution_count": 11,
   "metadata": {
    "collapsed": false
   },
   "outputs": [
    {
     "data": {
      "text/plain": [
       "GridSearchCV(cv=5, error_score='raise',\n",
       "       estimator=DecisionTreeClassifier(class_weight=None, criterion='gini', max_depth=None,\n",
       "            max_features=None, max_leaf_nodes=None, min_samples_leaf=1,\n",
       "            min_samples_split=2, min_weight_fraction_leaf=0.0,\n",
       "            presort=False, random_state=None, splitter='best'),\n",
       "       fit_params={}, iid=True, n_jobs=1,\n",
       "       param_grid={'criterion': ['gini', 'entropy'], 'max_depth': [1, 2, 3, 4, 5, 6, 7, 8, 9, 10, 11, 12, 13, 14, 15, 16, 17, 18, 19, 20, 21, 22, 23, 24, 25, 26, 27, 28, 29, 30]},\n",
       "       pre_dispatch='2*n_jobs', refit=True, scoring='accuracy', verbose=0)"
      ]
     },
     "execution_count": 11,
     "metadata": {},
     "output_type": "execute_result"
    }
   ],
   "source": [
    "import sklearn.grid_search as gs\n",
    "grid_para_tree = {'criterion': ['gini', 'entropy'], 'max_depth': range(1, 31)}\n",
    "grid_search_tree = gs.GridSearchCV(tree_model, grid_para_tree, cv=5, scoring='accuracy')\n",
    "grid_search_tree.fit(x_train, y_train)"
   ]
  },
  {
   "cell_type": "code",
   "execution_count": 12,
   "metadata": {
    "collapsed": false
   },
   "outputs": [
    {
     "data": {
      "text/plain": [
       "[mean: 0.74766, std: 0.03662, params: {'criterion': 'gini', 'max_depth': 1},\n",
       " mean: 0.77009, std: 0.03684, params: {'criterion': 'gini', 'max_depth': 2},\n",
       " mean: 0.81308, std: 0.02689, params: {'criterion': 'gini', 'max_depth': 3},\n",
       " mean: 0.79626, std: 0.02991, params: {'criterion': 'gini', 'max_depth': 4},\n",
       " mean: 0.77757, std: 0.04488, params: {'criterion': 'gini', 'max_depth': 5},\n",
       " mean: 0.74206, std: 0.05492, params: {'criterion': 'gini', 'max_depth': 6},\n",
       " mean: 0.77757, std: 0.03475, params: {'criterion': 'gini', 'max_depth': 7},\n",
       " mean: 0.75327, std: 0.04778, params: {'criterion': 'gini', 'max_depth': 8},\n",
       " mean: 0.75888, std: 0.04416, params: {'criterion': 'gini', 'max_depth': 9},\n",
       " mean: 0.74579, std: 0.04076, params: {'criterion': 'gini', 'max_depth': 10},\n",
       " mean: 0.74393, std: 0.05025, params: {'criterion': 'gini', 'max_depth': 11},\n",
       " mean: 0.74393, std: 0.04142, params: {'criterion': 'gini', 'max_depth': 12},\n",
       " mean: 0.73645, std: 0.04568, params: {'criterion': 'gini', 'max_depth': 13},\n",
       " mean: 0.74393, std: 0.04165, params: {'criterion': 'gini', 'max_depth': 14},\n",
       " mean: 0.74206, std: 0.03205, params: {'criterion': 'gini', 'max_depth': 15},\n",
       " mean: 0.73271, std: 0.04654, params: {'criterion': 'gini', 'max_depth': 16},\n",
       " mean: 0.73832, std: 0.05042, params: {'criterion': 'gini', 'max_depth': 17},\n",
       " mean: 0.74766, std: 0.03765, params: {'criterion': 'gini', 'max_depth': 18},\n",
       " mean: 0.73271, std: 0.04019, params: {'criterion': 'gini', 'max_depth': 19},\n",
       " mean: 0.73645, std: 0.03957, params: {'criterion': 'gini', 'max_depth': 20},\n",
       " mean: 0.74019, std: 0.04231, params: {'criterion': 'gini', 'max_depth': 21},\n",
       " mean: 0.73645, std: 0.04782, params: {'criterion': 'gini', 'max_depth': 22},\n",
       " mean: 0.73271, std: 0.04800, params: {'criterion': 'gini', 'max_depth': 23},\n",
       " mean: 0.74579, std: 0.04959, params: {'criterion': 'gini', 'max_depth': 24},\n",
       " mean: 0.74206, std: 0.04519, params: {'criterion': 'gini', 'max_depth': 25},\n",
       " mean: 0.73832, std: 0.03513, params: {'criterion': 'gini', 'max_depth': 26},\n",
       " mean: 0.73832, std: 0.04500, params: {'criterion': 'gini', 'max_depth': 27},\n",
       " mean: 0.74019, std: 0.04377, params: {'criterion': 'gini', 'max_depth': 28},\n",
       " mean: 0.73832, std: 0.04628, params: {'criterion': 'gini', 'max_depth': 29},\n",
       " mean: 0.74579, std: 0.04094, params: {'criterion': 'gini', 'max_depth': 30},\n",
       " mean: 0.72523, std: 0.02025, params: {'criterion': 'entropy', 'max_depth': 1},\n",
       " mean: 0.75701, std: 0.04296, params: {'criterion': 'entropy', 'max_depth': 2},\n",
       " mean: 0.81495, std: 0.02745, params: {'criterion': 'entropy', 'max_depth': 3},\n",
       " mean: 0.80561, std: 0.02018, params: {'criterion': 'entropy', 'max_depth': 4},\n",
       " mean: 0.79439, std: 0.03073, params: {'criterion': 'entropy', 'max_depth': 5},\n",
       " mean: 0.78131, std: 0.03509, params: {'criterion': 'entropy', 'max_depth': 6},\n",
       " mean: 0.76449, std: 0.03496, params: {'criterion': 'entropy', 'max_depth': 7},\n",
       " mean: 0.76822, std: 0.03457, params: {'criterion': 'entropy', 'max_depth': 8},\n",
       " mean: 0.75701, std: 0.03923, params: {'criterion': 'entropy', 'max_depth': 9},\n",
       " mean: 0.76636, std: 0.04278, params: {'criterion': 'entropy', 'max_depth': 10},\n",
       " mean: 0.75514, std: 0.03731, params: {'criterion': 'entropy', 'max_depth': 11},\n",
       " mean: 0.75888, std: 0.02557, params: {'criterion': 'entropy', 'max_depth': 12},\n",
       " mean: 0.76262, std: 0.05779, params: {'criterion': 'entropy', 'max_depth': 13},\n",
       " mean: 0.76075, std: 0.03008, params: {'criterion': 'entropy', 'max_depth': 14},\n",
       " mean: 0.76262, std: 0.03779, params: {'criterion': 'entropy', 'max_depth': 15},\n",
       " mean: 0.75701, std: 0.05647, params: {'criterion': 'entropy', 'max_depth': 16},\n",
       " mean: 0.75514, std: 0.04745, params: {'criterion': 'entropy', 'max_depth': 17},\n",
       " mean: 0.75888, std: 0.05031, params: {'criterion': 'entropy', 'max_depth': 18},\n",
       " mean: 0.77009, std: 0.02840, params: {'criterion': 'entropy', 'max_depth': 19},\n",
       " mean: 0.77196, std: 0.04488, params: {'criterion': 'entropy', 'max_depth': 20},\n",
       " mean: 0.76449, std: 0.04240, params: {'criterion': 'entropy', 'max_depth': 21},\n",
       " mean: 0.75701, std: 0.05436, params: {'criterion': 'entropy', 'max_depth': 22},\n",
       " mean: 0.75514, std: 0.04271, params: {'criterion': 'entropy', 'max_depth': 23},\n",
       " mean: 0.76075, std: 0.04530, params: {'criterion': 'entropy', 'max_depth': 24},\n",
       " mean: 0.75888, std: 0.04863, params: {'criterion': 'entropy', 'max_depth': 25},\n",
       " mean: 0.77196, std: 0.04862, params: {'criterion': 'entropy', 'max_depth': 26},\n",
       " mean: 0.75888, std: 0.03886, params: {'criterion': 'entropy', 'max_depth': 27},\n",
       " mean: 0.76449, std: 0.05645, params: {'criterion': 'entropy', 'max_depth': 28},\n",
       " mean: 0.76075, std: 0.04280, params: {'criterion': 'entropy', 'max_depth': 29},\n",
       " mean: 0.76262, std: 0.03567, params: {'criterion': 'entropy', 'max_depth': 30}]"
      ]
     },
     "execution_count": 12,
     "metadata": {},
     "output_type": "execute_result"
    }
   ],
   "source": [
    "grid_search_tree.grid_scores_"
   ]
  },
  {
   "cell_type": "code",
   "execution_count": 13,
   "metadata": {
    "collapsed": false
   },
   "outputs": [
    {
     "name": "stdout",
     "output_type": "stream",
     "text": [
      "('Best Score:', 0.81495327102803738)\n",
      "('Best Combination:', {'criterion': 'entropy', 'max_depth': 3})\n",
      "('Best Estimator:', DecisionTreeClassifier(class_weight=None, criterion='entropy', max_depth=3,\n",
      "            max_features=None, max_leaf_nodes=None, min_samples_leaf=1,\n",
      "            min_samples_split=2, min_weight_fraction_leaf=0.0,\n",
      "            presort=False, random_state=None, splitter='best'))\n"
     ]
    }
   ],
   "source": [
    "# 3 Looking for best estimator\n",
    "print (\"Best Score:\",grid_search_tree.best_score_)\n",
    "print (\"Best Combination:\",grid_search_tree.best_params_)\n",
    "print (\"Best Estimator:\",grid_search_tree.best_estimator_)"
   ]
  },
  {
   "cell_type": "code",
   "execution_count": 14,
   "metadata": {
    "collapsed": false
   },
   "outputs": [
    {
     "data": {
      "text/plain": [
       "DecisionTreeClassifier(class_weight=None, criterion='entropy', max_depth=3,\n",
       "            max_features=None, max_leaf_nodes=None, min_samples_leaf=1,\n",
       "            min_samples_split=2, min_weight_fraction_leaf=0.0,\n",
       "            presort=False, random_state=None, splitter='best')"
      ]
     },
     "execution_count": 14,
     "metadata": {},
     "output_type": "execute_result"
    }
   ],
   "source": [
    "tree_best = grid_search_tree.best_estimator_\n",
    "tree_best.fit(x_train, y_train)"
   ]
  },
  {
   "cell_type": "code",
   "execution_count": 18,
   "metadata": {
    "collapsed": false
   },
   "outputs": [
    {
     "name": "stdout",
     "output_type": "stream",
     "text": [
      "('Training error:', 0.17570093457943925)\n",
      "('Test error:', 0.22056074766355138)\n",
      "('Array of features:', array([ 0.02406062,  0.        ,  0.        ,  0.        ,  0.        ,\n",
      "        0.        ,  0.02832349,  0.        ,  0.79940582,  0.        ,\n",
      "        0.03351326,  0.11469682,  0.        ,  0.        ,  0.        ,\n",
      "        0.        ,  0.        ]))\n"
     ]
    }
   ],
   "source": [
    "print (\"Training error:\",1-tree_best.score(x_train,y_train))\n",
    "print (\"Test error:\",1-tree_best.score(x_test,y_test))\n",
    "print (\"Array of features:\",tree_best.feature_importances_)"
   ]
  },
  {
   "cell_type": "code",
   "execution_count": 19,
   "metadata": {
    "collapsed": false
   },
   "outputs": [
    {
     "data": {
      "text/plain": [
       "array([ 0.02406062,  0.        ,  0.        ,  0.        ,  0.        ,\n",
       "        0.        ,  0.02832349,  0.        ,  0.79940582,  0.        ,\n",
       "        0.03351326,  0.11469682,  0.        ,  0.        ,  0.        ,\n",
       "        0.        ,  0.        ])"
      ]
     },
     "execution_count": 19,
     "metadata": {},
     "output_type": "execute_result"
    }
   ],
   "source": [
    "# only 2 important features\n",
    "tree_best.feature_importances_"
   ]
  },
  {
   "cell_type": "markdown",
   "metadata": {},
   "source": [
    "(4) What are the first 5 important features?"
   ]
  },
  {
   "cell_type": "code",
   "execution_count": null,
   "metadata": {
    "collapsed": true
   },
   "outputs": [],
   "source": [
    "### your solution"
   ]
  },
  {
   "cell_type": "markdown",
   "metadata": {},
   "source": [
    "**4. Random Forest.**\n",
    "\n",
    "(1) Fit a random forest on the training set. Report the training error and test error.\n",
    "    \n",
    "(2) Use the function **grid_search.GridSearchCV** to find the best parameters. What's the best parameters? What's the best score? What's the training error and test error of the best model. The possible combination of the parameters may be:"
   ]
  },
  {
   "cell_type": "code",
   "execution_count": 21,
   "metadata": {
    "collapsed": false
   },
   "outputs": [
    {
     "data": {
      "text/plain": [
       "RandomForestClassifier(bootstrap=True, class_weight=None, criterion='gini',\n",
       "            max_depth=None, max_features='auto', max_leaf_nodes=None,\n",
       "            min_samples_leaf=1, min_samples_split=2,\n",
       "            min_weight_fraction_leaf=0.0, n_estimators=10, n_jobs=1,\n",
       "            oob_score=False, random_state=None, verbose=0,\n",
       "            warm_start=False)"
      ]
     },
     "execution_count": 21,
     "metadata": {},
     "output_type": "execute_result"
    }
   ],
   "source": [
    "#1- Using default Random forest parameters\n",
    "from sklearn import ensemble\n",
    "randomForest = ensemble.RandomForestClassifier()\n",
    "randomForest.fit(x_train,y_train)"
   ]
  },
  {
   "cell_type": "code",
   "execution_count": 22,
   "metadata": {
    "collapsed": false
   },
   "outputs": [
    {
     "name": "stdout",
     "output_type": "stream",
     "text": [
      "('Training error:', 0.035514018691588767)\n",
      "('Test error:', 0.22242990654205608)\n"
     ]
    }
   ],
   "source": [
    "print (\"Training error:\",1-randomForest.score(x_train,y_train))\n",
    "print (\"Test error:\",1-randomForest.score(x_test,y_test))"
   ]
  },
  {
   "cell_type": "code",
   "execution_count": 23,
   "metadata": {
    "collapsed": true
   },
   "outputs": [],
   "source": [
    "# Checking for best combination\n",
    "grid_para_forest = {'criterion': ['gini', 'entropy'], 'max_depth': range(1, 31), \"n_estimators\": range(10, 110, 10)}\n",
    "grid_search_forest = gs.GridSearchCV(randomForest, grid_para_forest, scoring='accuracy', cv=5)"
   ]
  },
  {
   "cell_type": "code",
   "execution_count": 24,
   "metadata": {
    "collapsed": false
   },
   "outputs": [
    {
     "data": {
      "text/plain": [
       "GridSearchCV(cv=5, error_score='raise',\n",
       "       estimator=RandomForestClassifier(bootstrap=True, class_weight=None, criterion='gini',\n",
       "            max_depth=None, max_features='auto', max_leaf_nodes=None,\n",
       "            min_samples_leaf=1, min_samples_split=2,\n",
       "            min_weight_fraction_leaf=0.0, n_estimators=10, n_jobs=1,\n",
       "            oob_score=False, random_state=None, verbose=0,\n",
       "            warm_start=False),\n",
       "       fit_params={}, iid=True, n_jobs=1,\n",
       "       param_grid={'n_estimators': [10, 20, 30, 40, 50, 60, 70, 80, 90, 100], 'criterion': ['gini', 'entropy'], 'max_depth': [1, 2, 3, 4, 5, 6, 7, 8, 9, 10, 11, 12, 13, 14, 15, 16, 17, 18, 19, 20, 21, 22, 23, 24, 25, 26, 27, 28, 29, 30]},\n",
       "       pre_dispatch='2*n_jobs', refit=True, scoring='accuracy', verbose=0)"
      ]
     },
     "execution_count": 24,
     "metadata": {},
     "output_type": "execute_result"
    }
   ],
   "source": [
    "grid_search_forest.fit(x_train, y_train)"
   ]
  },
  {
   "cell_type": "code",
   "execution_count": 25,
   "metadata": {
    "collapsed": false
   },
   "outputs": [
    {
     "name": "stdout",
     "output_type": "stream",
     "text": [
      "('Best Score:', 0.82056074766355136)\n",
      "('Best Combination:', {'n_estimators': 100, 'criterion': 'entropy', 'max_depth': 3})\n",
      "('Best Estimator:', RandomForestClassifier(bootstrap=True, class_weight=None, criterion='entropy',\n",
      "            max_depth=3, max_features='auto', max_leaf_nodes=None,\n",
      "            min_samples_leaf=1, min_samples_split=2,\n",
      "            min_weight_fraction_leaf=0.0, n_estimators=100, n_jobs=1,\n",
      "            oob_score=False, random_state=None, verbose=0,\n",
      "            warm_start=False))\n"
     ]
    }
   ],
   "source": [
    "print (\"Best Score:\",grid_search_forest.best_score_)\n",
    "print (\"Best Combination:\",grid_search_forest.best_params_)\n",
    "print (\"Best Estimator:\",grid_search_forest.best_estimator_)"
   ]
  },
  {
   "cell_type": "code",
   "execution_count": 26,
   "metadata": {
    "collapsed": false
   },
   "outputs": [
    {
     "data": {
      "text/plain": [
       "RandomForestClassifier(bootstrap=True, class_weight=None, criterion='entropy',\n",
       "            max_depth=3, max_features='auto', max_leaf_nodes=None,\n",
       "            min_samples_leaf=1, min_samples_split=2,\n",
       "            min_weight_fraction_leaf=0.0, n_estimators=100, n_jobs=1,\n",
       "            oob_score=False, random_state=None, verbose=0,\n",
       "            warm_start=False)"
      ]
     },
     "execution_count": 26,
     "metadata": {},
     "output_type": "execute_result"
    }
   ],
   "source": [
    "forest_best = grid_search_forest.best_estimator_\n",
    "forest_best.fit(x_train, y_train)"
   ]
  },
  {
   "cell_type": "markdown",
   "metadata": {},
   "source": [
    "(3) What's the first 5 important features?"
   ]
  },
  {
   "cell_type": "code",
   "execution_count": 27,
   "metadata": {
    "collapsed": false
   },
   "outputs": [
    {
     "name": "stdout",
     "output_type": "stream",
     "text": [
      "('Training error:', 0.17009345794392527)\n",
      "('Test error:', 0.21121495327102802)\n",
      "[ 0.04548647  0.08462034  0.01706913  0.01713001  0.00828449  0.02752075\n",
      "  0.00182171  0.00643722  0.45331539  0.04469429  0.02692578  0.08411097\n",
      "  0.03510983  0.01848861  0.01495879  0.06862561  0.0454006 ]\n"
     ]
    }
   ],
   "source": [
    "print (\"Training error:\",1-forest_best.score(x_train,y_train))\n",
    "print (\"Test error:\",1-forest_best.score(x_test,y_test))\n",
    "print forest_best.feature_importances_"
   ]
  },
  {
   "cell_type": "code",
   "execution_count": null,
   "metadata": {
    "collapsed": true
   },
   "outputs": [],
   "source": [
    "### your solution"
   ]
  }
 ],
 "metadata": {
  "kernelspec": {
   "display_name": "Python 2",
   "language": "python",
   "name": "python2"
  },
  "language_info": {
   "codemirror_mode": {
    "name": "ipython",
    "version": 2
   },
   "file_extension": ".py",
   "mimetype": "text/x-python",
   "name": "python",
   "nbconvert_exporter": "python",
   "pygments_lexer": "ipython2",
   "version": "2.7.10"
  }
 },
 "nbformat": 4,
 "nbformat_minor": 0
}
